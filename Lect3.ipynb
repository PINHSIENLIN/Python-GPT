{
 "cells": [
  {
   "cell_type": "code",
   "execution_count": null,
   "metadata": {},
   "outputs": [],
   "source": [
    "from pathlib import Path\n",
    "from datetime import timedelta, datetime"
   ]
  },
  {
   "cell_type": "code",
   "execution_count": null,
   "metadata": {},
   "outputs": [],
   "source": [
    "#| Relative-Path-Rename\n",
    "relative_path = \"data\"\n",
    "p = Path(relative_path)\n",
    "# f = p / \"test.txt\"\n",
    "# if f.exists():\n",
    "#     f.rename(str(p / \"log-01.txt\"))"
   ]
  },
  {
   "cell_type": "code",
   "execution_count": null,
   "metadata": {},
   "outputs": [],
   "source": [
    "#| Try-Except\n",
    "# try:\n",
    "#     f.rename(str(p / \"log-01.txt\"))\n",
    "# except:\n",
    "#     pass"
   ]
  },
  {
   "cell_type": "code",
   "execution_count": null,
   "metadata": {},
   "outputs": [],
   "source": [
    "#| Create Log Folder within data folder\n",
    "f = p / \"log\"\n",
    "f.mkdir(parents = True, exist_ok = True)"
   ]
  },
  {
   "cell_type": "code",
   "execution_count": null,
   "metadata": {},
   "outputs": [],
   "source": [
    "#| Move file to log folder\n",
    "source = p / \"log-01.txt\"\n",
    "if source.exists():\n",
    "    source.rename(f / \"log-01.txt\")"
   ]
  },
  {
   "cell_type": "code",
   "execution_count": null,
   "metadata": {},
   "outputs": [],
   "source": [
    "#| Copy five files and rename them\n",
    "source = f / \"log-01.txt\"\n",
    "for i in range(1,6):\n",
    "    target = f / \"log-{:0>2d}.log\".format(i)\n",
    "    if not target.exists():\n",
    "        target.write_bytes(source.read_bytes())"
   ]
  },
  {
   "cell_type": "code",
   "execution_count": null,
   "metadata": {},
   "outputs": [],
   "source": [
    "#| List all files\n",
    "print(list(f.glob(\"*\")))"
   ]
  },
  {
   "cell_type": "code",
   "execution_count": null,
   "metadata": {},
   "outputs": [],
   "source": [
    "for i in f.glob(\"*\"):\n",
    "    print(str(i))"
   ]
  },
  {
   "cell_type": "code",
   "execution_count": null,
   "metadata": {},
   "outputs": [],
   "source": [
    "#| Write Text \n",
    "folder_name = \"report\"\n",
    "folder_path = Path(folder_name)\n",
    "folder_path.mkdir(parents = True, exist_ok = True)\n",
    "today = datetime.now()\n",
    "file_path = Path(folder_name + \"/daily_report-\" + today.strftime(\"%Y-%m-%d\") + \".txt\")\n",
    "contents = \"Draft\\n\"\n",
    "contents += \"========\\n\"\n",
    "contents += \"Hello World\"\n",
    "file_path.write_text(contents, encoding = \"UTF-8\")"
   ]
  },
  {
   "cell_type": "code",
   "execution_count": null,
   "metadata": {},
   "outputs": [],
   "source": [
    "#| For loop to write txt\n",
    "for i in range(1,4):\n",
    "    today = datetime.now() + timedelta(i)\n",
    "    file_path = Path(folder_name + \"/daily_report-\" + today.strftime(\"%Y-%m-%d\") + \".txt\")\n",
    "    contents =  today.strftime(\"%Y-%m-%d\") + \" Draft\\n\"\n",
    "    contents += \"========\\n\"\n",
    "    contents += \"Hello World\"\n",
    "    file_path.write_text(contents, encoding = \"UTF-8\")\n"
   ]
  },
  {
   "cell_type": "code",
   "execution_count": null,
   "metadata": {},
   "outputs": [],
   "source": [
    "#| For loop to read txt\n",
    "for path in folder_path.glob(\"*.txt\"):\n",
    "    text = path.read_text(encoding = \"UTF-8\")\n",
    "    print(text)"
   ]
  }
 ],
 "metadata": {
  "kernelspec": {
   "display_name": "Python 3",
   "language": "python",
   "name": "python3"
  },
  "language_info": {
   "codemirror_mode": {
    "name": "ipython",
    "version": 3
   },
   "file_extension": ".py",
   "mimetype": "text/x-python",
   "name": "python",
   "nbconvert_exporter": "python",
   "pygments_lexer": "ipython3",
   "version": "3.12.2"
  }
 },
 "nbformat": 4,
 "nbformat_minor": 2
}
