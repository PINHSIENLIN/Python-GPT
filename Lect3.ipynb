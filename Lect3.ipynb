{
 "cells": [
  {
   "cell_type": "code",
   "execution_count": 1,
   "metadata": {},
   "outputs": [],
   "source": [
    "from pathlib import Path"
   ]
  },
  {
   "cell_type": "code",
   "execution_count": 2,
   "metadata": {},
   "outputs": [],
   "source": [
    "#| Relative-Path-Rename\n",
    "relative_path = \"data\"\n",
    "p = Path(relative_path)\n",
    "# f = p / \"test.txt\"\n",
    "# if f.exists():\n",
    "#     f.rename(str(p / \"log-01.txt\"))"
   ]
  },
  {
   "cell_type": "code",
   "execution_count": 13,
   "metadata": {},
   "outputs": [],
   "source": [
    "#| Try-Except\n",
    "# try:\n",
    "#     f.rename(str(p / \"log-01.txt\"))\n",
    "# except:\n",
    "#     pass"
   ]
  },
  {
   "cell_type": "code",
   "execution_count": 3,
   "metadata": {},
   "outputs": [],
   "source": [
    "#| Create Log Folder within data folder\n",
    "f = p / \"log\"\n",
    "f.mkdir(parents = True, exist_ok = True)"
   ]
  },
  {
   "cell_type": "code",
   "execution_count": 32,
   "metadata": {},
   "outputs": [],
   "source": [
    "#| Move file to log folder\n",
    "source = p / \"log-01.txt\"\n",
    "if source.exists():\n",
    "    source.rename(f / \"log-01.txt\")"
   ]
  },
  {
   "cell_type": "code",
   "execution_count": 33,
   "metadata": {},
   "outputs": [],
   "source": [
    "#| Copy five files and rename them\n",
    "source = f / \"log-01.txt\"\n",
    "for i in range(1,6):\n",
    "    target = f / \"log-{:0>2d}.log\".format(i)\n",
    "    if not target.exists():\n",
    "        target.write_bytes(source.read_bytes())"
   ]
  },
  {
   "cell_type": "code",
   "execution_count": 44,
   "metadata": {},
   "outputs": [
    {
     "name": "stdout",
     "output_type": "stream",
     "text": [
      "[PosixPath('data/log/log-01.txt'), PosixPath('data/log/log-01.log'), PosixPath('data/log/log-02.log'), PosixPath('data/log/log-03.log'), PosixPath('data/log/log-04.log'), PosixPath('data/log/log-05.log')]\n"
     ]
    }
   ],
   "source": [
    "#| List all files\n",
    "print(list(f.glob(\"*\")))"
   ]
  },
  {
   "cell_type": "code",
   "execution_count": 43,
   "metadata": {},
   "outputs": [
    {
     "name": "stdout",
     "output_type": "stream",
     "text": [
      "data/log/log-01.txt\n",
      "data/log/log-01.log\n",
      "data/log/log-02.log\n",
      "data/log/log-03.log\n",
      "data/log/log-04.log\n",
      "data/log/log-05.log\n"
     ]
    }
   ],
   "source": [
    "for i in f.glob(\"*\"):\n",
    "    print(str(i))"
   ]
  },
  {
   "cell_type": "code",
   "execution_count": null,
   "metadata": {},
   "outputs": [],
   "source": []
  }
 ],
 "metadata": {
  "kernelspec": {
   "display_name": "Python 3",
   "language": "python",
   "name": "python3"
  },
  "language_info": {
   "codemirror_mode": {
    "name": "ipython",
    "version": 3
   },
   "file_extension": ".py",
   "mimetype": "text/x-python",
   "name": "python",
   "nbconvert_exporter": "python",
   "pygments_lexer": "ipython3",
   "version": "3.12.2"
  }
 },
 "nbformat": 4,
 "nbformat_minor": 2
}
