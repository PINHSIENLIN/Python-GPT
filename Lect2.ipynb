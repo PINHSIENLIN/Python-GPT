{
 "cells": [
  {
   "cell_type": "code",
   "execution_count": null,
   "metadata": {},
   "outputs": [],
   "source": [
    "#| Import Module\n",
    "import PySimpleGUI as sg"
   ]
  },
  {
   "cell_type": "code",
   "execution_count": null,
   "metadata": {},
   "outputs": [],
   "source": [
    "layout = [\n",
    "          [sg.Text(\"This is Original Text\", key = \"text\", font = (None,20)),\n",
    "           sg.InputText(key = \"input\", font = (\"Arial\", 20), size = (10,1)),\n",
    "           sg.Button(\"OK\", font = (None,20), size = (5,1))]          \n",
    "          ]\n",
    "window = sg.Window(\"My GUI\", layout, size = (400,100))\n",
    "# Once Click the OK Button\n",
    "while True:\n",
    "    event, values = window.read()\n",
    "    if event == \"OK\":\n",
    "        original_text = window[\"text\"].get()\n",
    "        input_text = window[\"input\"].get()\n",
    "        updated_text = original_text.replace(\"Original\",input_text)\n",
    "        window[\"text\"].update(updated_text)\n",
    "    elif event == None:\n",
    "        break\n",
    "window.close()"
   ]
  },
  {
   "cell_type": "code",
   "execution_count": null,
   "metadata": {},
   "outputs": [],
   "source": [
    "#| Template\n",
    "title = \"My GUI\"\n",
    "label1, value1, = \"Input1\", \"Initial1\"\n",
    "label2, value2 = \"Input2\", \"Initial2\"\n",
    "\n",
    "def run():\n",
    "    print(\"Run...\")\n",
    "    msg = values['-input1-']\n",
    "    window[\"-output1-\"].update(msg)\n",
    "# Layout\n",
    "layout = [\n",
    "    [sg.Text(label1, size = (10,1)), sg.InputText(value1, key = \"-input1-\", size = (30,1))],\n",
    "    [sg.Text(label2, size = (10,1)), sg.InputText(value2, key = \"-input2-\", size = (30,1)),\n",
    "     sg.FileBrowse(\"Select File\", key = \"-file1-\", size = (15,1))],\n",
    "    [sg.Multiline(key = \"-output1-\", size = (40,10)), sg.Button(\"RUN\",size = (4,3))],\n",
    "    ]\n",
    "\n",
    "window = sg.Window(title, layout, font=(None, 14))\n",
    "while True:\n",
    "    event, values = window.read()\n",
    "    if event == \"RUN\":\n",
    "        run()\n",
    "    elif event == None:\n",
    "        break\n",
    "window.close()"
   ]
  },
  {
   "cell_type": "code",
   "execution_count": 34,
   "metadata": {},
   "outputs": [
    {
     "name": "stdout",
     "output_type": "stream",
     "text": [
      "我是全域變數\n"
     ]
    }
   ],
   "source": [
    "global_variable = \"我是全域變數\"\n",
    "def my_function():\n",
    "    # global global_variable\n",
    "    print(global_variable)\n",
    "    global_variable = \"修改後的全域變數\"\n",
    "# my_function()\n",
    "print(global_variable)"
   ]
  }
 ],
 "metadata": {
  "kernelspec": {
   "display_name": "Python 3",
   "language": "python",
   "name": "python3"
  },
  "language_info": {
   "codemirror_mode": {
    "name": "ipython",
    "version": 3
   },
   "file_extension": ".py",
   "mimetype": "text/x-python",
   "name": "python",
   "nbconvert_exporter": "python",
   "pygments_lexer": "ipython3",
   "version": "3.12.2"
  }
 },
 "nbformat": 4,
 "nbformat_minor": 2
}
